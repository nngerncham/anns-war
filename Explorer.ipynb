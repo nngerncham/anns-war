{
 "cells": [
  {
   "cell_type": "code",
   "execution_count": 1,
   "id": "8eac8e46-9643-4310-81b3-4c31f4a24383",
   "metadata": {},
   "outputs": [],
   "source": [
    "from testbed import load_query, K, D, evaluate, NUM_THREADS\n",
    "from testbed.test_diskann import build_diskann\n",
    "from testbed.test_hnswlib import build_hnswlib\n",
    "from testbed.test_faiss import build_faiss\n",
    "\n",
    "import hnswlib as hnsw\n",
    "import faiss\n",
    "import diskannpy as diskann\n",
    "import numpy as np"
   ]
  },
  {
   "cell_type": "code",
   "execution_count": 2,
   "id": "ab7e80c9-550f-44e6-bd11-6f02d01072b4",
   "metadata": {},
   "outputs": [],
   "source": [
    "queries, gts = load_query()"
   ]
  },
  {
   "cell_type": "markdown",
   "id": "cc1aa794-26b0-4010-ad40-f08f8d1afc5a",
   "metadata": {},
   "source": [
    "# HNSW"
   ]
  },
  {
   "cell_type": "code",
   "execution_count": 3,
   "id": "d015695f-1663-47ee-a0e0-351581685009",
   "metadata": {},
   "outputs": [
    {
     "name": "stdout",
     "output_type": "stream",
     "text": [
      "== HNSW ==\n",
      "Time taken: 4.057326900233333 minutes\n",
      "Memory difference: 1.619890176 GB\n",
      "Memory at end: 2.43755008 GB\n",
      "CPU times: user 32min 21s, sys: 2.62 s, total: 32min 24s\n",
      "Wall time: 4min 5s\n"
     ]
    }
   ],
   "source": [
    "%%time\n",
    "build_hnswlib()"
   ]
  },
  {
   "cell_type": "code",
   "execution_count": 4,
   "id": "f5ee3e85-b913-4b6b-b2e3-a23210ab3566",
   "metadata": {},
   "outputs": [],
   "source": [
    "hnswlib_idx = hnsw.Index(\"l2\", D)\n",
    "hnswlib_idx.load_index(\"/home/nawat/muic/senior/anns-war/indices/hnswlib/index.bin\")"
   ]
  },
  {
   "cell_type": "code",
   "execution_count": 19,
   "id": "378ab8c3-e4bd-4f3b-bffd-796194f53e0d",
   "metadata": {},
   "outputs": [
    {
     "name": "stdout",
     "output_type": "stream",
     "text": [
      "CPU times: user 18.1 s, sys: 55.7 ms, total: 18.2 s\n",
      "Wall time: 824 ms\n"
     ]
    }
   ],
   "source": [
    "%%time\n",
    "hnsw_results, _ = hnswlib_idx.knn_query(queries, K)"
   ]
  },
  {
   "cell_type": "code",
   "execution_count": 21,
   "id": "6add8694-1f51-4a08-8b36-909c0954c699",
   "metadata": {},
   "outputs": [
    {
     "data": {
      "text/plain": [
       "array([[932085, 934876, 561813, ..., 656997, 871600, 390777],\n",
       "       [413247, 413071, 706838, ..., 538688, 815172, 690476],\n",
       "       [669835, 408764, 408462, ..., 310475, 971815, 957355],\n",
       "       ...,\n",
       "       [123855, 123351, 534149, ..., 882928,  61007,  99059],\n",
       "       [755327, 755323, 840765, ..., 595134, 601257, 172180],\n",
       "       [874343, 464509, 413340, ..., 419949, 735660, 265726]],\n",
       "      dtype=uint64)"
      ]
     },
     "execution_count": 21,
     "metadata": {},
     "output_type": "execute_result"
    }
   ],
   "source": [
    "hnsw_results"
   ]
  },
  {
   "cell_type": "code",
   "execution_count": 7,
   "id": "4c673fba-18bc-4709-b207-006ca9469ab2",
   "metadata": {},
   "outputs": [
    {
     "data": {
      "text/plain": [
       "0.9776630000000001"
      ]
     },
     "execution_count": 7,
     "metadata": {},
     "output_type": "execute_result"
    }
   ],
   "source": [
    "evaluate(hnsw_results, gts)"
   ]
  },
  {
   "cell_type": "markdown",
   "id": "3c785d46-97da-4371-b560-1430d88a0023",
   "metadata": {},
   "source": [
    "# FAISS"
   ]
  },
  {
   "cell_type": "code",
   "execution_count": 8,
   "id": "757d7bef-9f40-4066-955b-2dcf416b5851",
   "metadata": {},
   "outputs": [
    {
     "name": "stdout",
     "output_type": "stream",
     "text": [
      "== FAISS-based HNSW ==\n",
      "Time taken: 4.395543714483334 minutes\n",
      "Memory difference: 1.54814464 GB\n",
      "Memory at end: 4.103929856 GB\n",
      "CPU times: user 34min 2s, sys: 1.67 s, total: 34min 4s\n",
      "Wall time: 4min 25s\n"
     ]
    }
   ],
   "source": [
    "%%time\n",
    "build_faiss()"
   ]
  },
  {
   "cell_type": "code",
   "execution_count": 9,
   "id": "335613ae-95e4-441c-a392-fd05b9ff1deb",
   "metadata": {},
   "outputs": [],
   "source": [
    "faiss_idx = faiss.read_index(\"/home/nawat/muic/senior/anns-war/indices/faiss/index.bin\")"
   ]
  },
  {
   "cell_type": "code",
   "execution_count": 10,
   "id": "fba44378-98fc-4a48-bb27-1088b25462f1",
   "metadata": {},
   "outputs": [
    {
     "name": "stdout",
     "output_type": "stream",
     "text": [
      "CPU times: user 1.73 s, sys: 11 µs, total: 1.73 s\n",
      "Wall time: 234 ms\n"
     ]
    }
   ],
   "source": [
    "%%time\n",
    "_, faiss_results = faiss_idx.search(queries, K)"
   ]
  },
  {
   "cell_type": "code",
   "execution_count": 11,
   "id": "454b4351-2845-4318-bb05-cfb1b25e2459",
   "metadata": {},
   "outputs": [
    {
     "data": {
      "text/plain": [
       "array([[932085, 934876, 561813, ..., 565750, 988993, 522282],\n",
       "       [413247, 413071, 706838, ..., 214320, 502137, 134091],\n",
       "       [669835, 408764, 408462, ..., 233819, 250457, 851856],\n",
       "       ...,\n",
       "       [123855, 123351, 534149, ..., 867625,  20062, 575366],\n",
       "       [755327, 755323, 840765, ..., 397414, 860426, 626711],\n",
       "       [874343, 464509, 413340, ..., 768793, 414057, 469001]])"
      ]
     },
     "execution_count": 11,
     "metadata": {},
     "output_type": "execute_result"
    }
   ],
   "source": [
    "faiss_results"
   ]
  },
  {
   "cell_type": "code",
   "execution_count": 12,
   "id": "10a3b9a2-ceb8-4039-bf56-f2b075403c28",
   "metadata": {},
   "outputs": [
    {
     "data": {
      "text/plain": [
       "0.683315"
      ]
     },
     "execution_count": 12,
     "metadata": {},
     "output_type": "execute_result"
    }
   ],
   "source": [
    "evaluate(faiss_results, gts)"
   ]
  },
  {
   "cell_type": "markdown",
   "id": "475404a1-b36c-497b-b4a4-534de4e5753e",
   "metadata": {},
   "source": [
    "# DiskANN"
   ]
  },
  {
   "cell_type": "code",
   "execution_count": 13,
   "id": "c72336cf-0f96-4fcf-b95d-0a16faa77081",
   "metadata": {},
   "outputs": [
    {
     "name": "stdout",
     "output_type": "stream",
     "text": [
      "L2: Using AVX2 distance computation DistanceL2Float\n",
      "Using only first 1000000 from file.. \n",
      "Starting index build with 1000000 points... \n",
      "90% of index build completed.Starting final cleanup..done. Link time: 137.509s\n",
      "Index built with degree: max:70  avg:68.7787  min:7  count(deg<2):0\n",
      "Not saving tags as they are not enabled.\n",
      "Time taken for save: 0.825731s.\n",
      "L2: Using AVX2 distance computation DistanceL2Float\n",
      "== DiskANN ==\n",
      "Time taken: 2.32362170995 minutes\n",
      "Memory difference: 0.511905792 GB\n",
      "Memory at end: 5.037744128 GB\n",
      "Passed, empty build_params while creating index config\n",
      "From graph header, expected_file_size: 279114680, _max_observed_degree: 70, _start: 123742, file_frozen_pts: 0\n",
      "Loading vamana graph /home/nawat/muic/senior/anns-war/indices/diskann/ann...done. Index has 1000000 nodes and 68778664 out-edges, _start is set to 123742\n",
      "Num frozen points:0 _nd: 1000000 _start: 123742 size(_location_to_tag): 0 size(_tag_to_location):0 Max points: 1000000\n",
      "CPU times: user 18min 15s, sys: 2.14 s, total: 18min 17s\n",
      "Wall time: 2min 19s\n"
     ]
    },
    {
     "name": "stderr",
     "output_type": "stream",
     "text": [
      "/home/nawat/.cache/pypoetry/virtualenvs/anns-war-4cghLm-Y-py3.10/lib/python3.10/site-packages/diskannpy/_common.py:230: UserWarning: The number of vectors in the saved index exceeds the max_vectors parameter. max_vectors is being adjusted to accommodate the dataset, but any insertions will fail.\n",
      "  warnings.warn(\n",
      "/home/nawat/.cache/pypoetry/virtualenvs/anns-war-4cghLm-Y-py3.10/lib/python3.10/site-packages/diskannpy/_common.py:236: UserWarning: The number of vectors in the saved index equals max_vectors parameter. Any insertions will fail.\n",
      "  warnings.warn(\n"
     ]
    }
   ],
   "source": [
    "%%time\n",
    "build_diskann()"
   ]
  },
  {
   "cell_type": "code",
   "execution_count": 14,
   "id": "3a722ba7-2d7a-4880-8ce3-03d8164bf976",
   "metadata": {},
   "outputs": [
    {
     "name": "stdout",
     "output_type": "stream",
     "text": [
      "L2: Using AVX2 distance computation DistanceL2Float\n",
      "Passed, empty build_params while creating index config\n",
      "From graph header, expected_file_size: 279114680, _max_observed_degree: 70, _start: 123742, file_frozen_pts: 0\n",
      "Loading vamana graph /home/nawat/muic/senior/anns-war/indices/diskann/ann...done. Index has 1000000 nodes and 68778664 out-edges, _start is set to 123742\n",
      "Num frozen points:0 _nd: 1000000 _start: 123742 size(_location_to_tag): 0 size(_tag_to_location):0 Max points: 1000000\n"
     ]
    }
   ],
   "source": [
    "diskann_idx = diskann.StaticMemoryIndex(\"/home/nawat/muic/senior/anns-war/indices/diskann\",\n",
    "                                        distance_metric=\"l2\",\n",
    "                                        num_threads=NUM_THREADS,\n",
    "                                        initial_search_complexity=125,\n",
    "                                        vector_dtype=np.float32\n",
    "                                       )"
   ]
  },
  {
   "cell_type": "code",
   "execution_count": 15,
   "id": "a3211261-1036-447b-927f-9e0b4b9a7045",
   "metadata": {},
   "outputs": [
    {
     "name": "stdout",
     "output_type": "stream",
     "text": [
      "CPU times: user 9.43 s, sys: 13 µs, total: 9.43 s\n",
      "Wall time: 1.18 s\n"
     ]
    }
   ],
   "source": [
    "%%time\n",
    "diskann_result = diskann_idx.batch_search(queries, K, 125, num_threads=NUM_THREADS).identifiers"
   ]
  },
  {
   "cell_type": "code",
   "execution_count": 16,
   "id": "1af8c44c-d617-464e-b7d5-0cb2785d5e0e",
   "metadata": {},
   "outputs": [
    {
     "data": {
      "text/plain": [
       "array([[932085, 934876, 561813, ..., 931721, 989762, 929750],\n",
       "       [413247, 413071, 706838, ..., 846198, 987074, 538688],\n",
       "       [669835, 408764, 408462, ..., 310475, 971815, 937903],\n",
       "       ...,\n",
       "       [123855, 123351, 534149, ...,  90175, 685486, 416474],\n",
       "       [755327, 755323, 840765, ..., 595134, 601257, 172180],\n",
       "       [874343, 464509, 413340, ..., 360985, 419949, 223427]],\n",
       "      dtype=uint32)"
      ]
     },
     "execution_count": 16,
     "metadata": {},
     "output_type": "execute_result"
    }
   ],
   "source": [
    "diskann_result"
   ]
  },
  {
   "cell_type": "code",
   "execution_count": 17,
   "id": "b93920d3-c505-4bd3-90c7-caccc1a2708c",
   "metadata": {},
   "outputs": [
    {
     "data": {
      "text/plain": [
       "0.993302"
      ]
     },
     "execution_count": 17,
     "metadata": {},
     "output_type": "execute_result"
    }
   ],
   "source": [
    "evaluate(diskann_result, gts)"
   ]
  }
 ],
 "metadata": {
  "kernelspec": {
   "display_name": "Python 3 (ipykernel)",
   "language": "python",
   "name": "python3"
  },
  "language_info": {
   "codemirror_mode": {
    "name": "ipython",
    "version": 3
   },
   "file_extension": ".py",
   "mimetype": "text/x-python",
   "name": "python",
   "nbconvert_exporter": "python",
   "pygments_lexer": "ipython3",
   "version": "3.10.9"
  }
 },
 "nbformat": 4,
 "nbformat_minor": 5
}
