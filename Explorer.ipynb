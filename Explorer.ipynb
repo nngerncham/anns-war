{
 "cells": [
  {
   "cell_type": "code",
   "execution_count": 1,
   "id": "8eac8e46-9643-4310-81b3-4c31f4a24383",
   "metadata": {
    "ExecuteTime": {
     "end_time": "2023-10-12T01:50:20.255436783Z",
     "start_time": "2023-10-12T01:50:20.116077322Z"
    }
   },
   "outputs": [],
   "source": [
    "from testbed import load_query, K, D, evaluate, NUM_THREADS\n",
    "from testbed.test_diskann import build_diskann\n",
    "from testbed.test_hnswlib import build_hnswlib\n",
    "from testbed.test_faiss import build_faiss\n",
    "\n",
    "import hnswlib as hnsw\n",
    "import faiss\n",
    "import diskannpy as diskann\n",
    "import numpy as np"
   ]
  },
  {
   "cell_type": "code",
   "execution_count": 2,
   "id": "ab7e80c9-550f-44e6-bd11-6f02d01072b4",
   "metadata": {
    "ExecuteTime": {
     "end_time": "2023-10-12T01:50:20.437765014Z",
     "start_time": "2023-10-12T01:50:20.255303681Z"
    }
   },
   "outputs": [
    {
     "ename": "ValueError",
     "evalue": "cannot reshape array of size 961000 into shape (129)",
     "output_type": "error",
     "traceback": [
      "\u001B[0;31m---------------------------------------------------------------------------\u001B[0m",
      "\u001B[0;31mValueError\u001B[0m                                Traceback (most recent call last)",
      "Cell \u001B[0;32mIn[2], line 1\u001B[0m\n\u001B[0;32m----> 1\u001B[0m queries, gts \u001B[38;5;241m=\u001B[39m \u001B[43mload_query\u001B[49m\u001B[43m(\u001B[49m\u001B[43m)\u001B[49m\n",
      "File \u001B[0;32m~/muic/senior/anns-war/testbed/__init__.py:27\u001B[0m, in \u001B[0;36mload_query\u001B[0;34m()\u001B[0m\n\u001B[1;32m     25\u001B[0m shaped_gt \u001B[38;5;241m=\u001B[39m ground_truth\u001B[38;5;241m.\u001B[39mreshape(\u001B[38;5;241m-\u001B[39m\u001B[38;5;241m1\u001B[39m, K \u001B[38;5;241m+\u001B[39m \u001B[38;5;241m1\u001B[39m)[:, \u001B[38;5;241m1\u001B[39m:]\n\u001B[1;32m     26\u001B[0m sets_of_gt \u001B[38;5;241m=\u001B[39m [\u001B[38;5;28mset\u001B[39m(gt) \u001B[38;5;28;01mfor\u001B[39;00m gt \u001B[38;5;129;01min\u001B[39;00m shaped_gt]\n\u001B[0;32m---> 27\u001B[0m \u001B[38;5;28;01mreturn\u001B[39;00m \u001B[43mqueries\u001B[49m\u001B[38;5;241;43m.\u001B[39;49m\u001B[43mreshape\u001B[49m\u001B[43m(\u001B[49m\u001B[38;5;241;43m-\u001B[39;49m\u001B[38;5;241;43m1\u001B[39;49m\u001B[43m,\u001B[49m\u001B[43m \u001B[49m\u001B[43mD\u001B[49m\u001B[43m \u001B[49m\u001B[38;5;241;43m+\u001B[39;49m\u001B[43m \u001B[49m\u001B[38;5;241;43m1\u001B[39;49m\u001B[43m)\u001B[49m[:, \u001B[38;5;241m1\u001B[39m:], sets_of_gt\n",
      "\u001B[0;31mValueError\u001B[0m: cannot reshape array of size 961000 into shape (129)"
     ]
    }
   ],
   "source": [
    "queries, gts = load_query()"
   ]
  },
  {
   "cell_type": "markdown",
   "id": "cc1aa794-26b0-4010-ad40-f08f8d1afc5a",
   "metadata": {},
   "source": [
    "# HNSW"
   ]
  },
  {
   "cell_type": "code",
   "execution_count": null,
   "id": "d015695f-1663-47ee-a0e0-351581685009",
   "metadata": {
    "ExecuteTime": {
     "start_time": "2023-10-12T01:50:20.483106651Z"
    }
   },
   "outputs": [],
   "source": [
    "%%time\n",
    "build_hnswlib()"
   ]
  },
  {
   "cell_type": "code",
   "execution_count": null,
   "id": "f5ee3e85-b913-4b6b-b2e3-a23210ab3566",
   "metadata": {
    "ExecuteTime": {
     "start_time": "2023-10-12T01:50:20.483280170Z"
    }
   },
   "outputs": [],
   "source": [
    "hnswlib_idx = hnsw.Index(\"l2\", D)\n",
    "hnswlib_idx.load_index(\"/home/nawat/muic/senior/anns-war/indices/hnswlib/index.bin\")"
   ]
  },
  {
   "cell_type": "code",
   "execution_count": null,
   "id": "378ab8c3-e4bd-4f3b-bffd-796194f53e0d",
   "metadata": {
    "ExecuteTime": {
     "end_time": "2023-10-12T01:50:20.497932118Z",
     "start_time": "2023-10-12T01:50:20.483415196Z"
    }
   },
   "outputs": [],
   "source": [
    "%%time\n",
    "hnsw_results, _ = hnswlib_idx.knn_query(queries, K)"
   ]
  },
  {
   "cell_type": "code",
   "execution_count": null,
   "id": "6add8694-1f51-4a08-8b36-909c0954c699",
   "metadata": {
    "ExecuteTime": {
     "start_time": "2023-10-12T01:50:20.483529592Z"
    }
   },
   "outputs": [],
   "source": [
    "hnsw_results"
   ]
  },
  {
   "cell_type": "code",
   "execution_count": null,
   "id": "4c673fba-18bc-4709-b207-006ca9469ab2",
   "metadata": {
    "ExecuteTime": {
     "start_time": "2023-10-12T01:50:20.483647305Z"
    }
   },
   "outputs": [],
   "source": [
    "evaluate(hnsw_results, gts)"
   ]
  },
  {
   "cell_type": "markdown",
   "id": "3c785d46-97da-4371-b560-1430d88a0023",
   "metadata": {},
   "source": [
    "# FAISS"
   ]
  },
  {
   "cell_type": "code",
   "execution_count": null,
   "id": "757d7bef-9f40-4066-955b-2dcf416b5851",
   "metadata": {
    "ExecuteTime": {
     "start_time": "2023-10-12T01:50:20.483762644Z"
    }
   },
   "outputs": [],
   "source": [
    "%%time\n",
    "build_faiss()"
   ]
  },
  {
   "cell_type": "code",
   "execution_count": null,
   "id": "335613ae-95e4-441c-a392-fd05b9ff1deb",
   "metadata": {
    "ExecuteTime": {
     "start_time": "2023-10-12T01:50:20.484517064Z"
    }
   },
   "outputs": [],
   "source": [
    "faiss_idx = faiss.read_index(\"/home/nawat/muic/senior/anns-war/indices/faiss/index.bin\")"
   ]
  },
  {
   "cell_type": "code",
   "execution_count": null,
   "id": "fba44378-98fc-4a48-bb27-1088b25462f1",
   "metadata": {
    "ExecuteTime": {
     "start_time": "2023-10-12T01:50:20.484612775Z"
    }
   },
   "outputs": [],
   "source": [
    "%%time\n",
    "_, faiss_results = faiss_idx.search(queries, K)"
   ]
  },
  {
   "cell_type": "code",
   "execution_count": null,
   "id": "454b4351-2845-4318-bb05-cfb1b25e2459",
   "metadata": {
    "ExecuteTime": {
     "start_time": "2023-10-12T01:50:20.484685543Z"
    }
   },
   "outputs": [],
   "source": [
    "faiss_results"
   ]
  },
  {
   "cell_type": "code",
   "execution_count": null,
   "id": "10a3b9a2-ceb8-4039-bf56-f2b075403c28",
   "metadata": {
    "ExecuteTime": {
     "start_time": "2023-10-12T01:50:20.484755566Z"
    }
   },
   "outputs": [],
   "source": [
    "evaluate(faiss_results, gts)"
   ]
  },
  {
   "cell_type": "markdown",
   "id": "475404a1-b36c-497b-b4a4-534de4e5753e",
   "metadata": {},
   "source": [
    "# DiskANN"
   ]
  },
  {
   "cell_type": "code",
   "execution_count": null,
   "id": "c72336cf-0f96-4fcf-b95d-0a16faa77081",
   "metadata": {
    "ExecuteTime": {
     "start_time": "2023-10-12T01:50:20.484825318Z"
    }
   },
   "outputs": [],
   "source": [
    "%%time\n",
    "build_diskann()"
   ]
  },
  {
   "cell_type": "code",
   "execution_count": null,
   "id": "3a722ba7-2d7a-4880-8ce3-03d8164bf976",
   "metadata": {
    "ExecuteTime": {
     "start_time": "2023-10-12T01:50:20.484902153Z"
    }
   },
   "outputs": [],
   "source": [
    "diskann_idx = diskann.StaticMemoryIndex(\"/home/nawat/muic/senior/anns-war/indices/diskann\",\n",
    "                                        distance_metric=\"l2\",\n",
    "                                        num_threads=NUM_THREADS,\n",
    "                                        initial_search_complexity=125,\n",
    "                                        vector_dtype=np.float32\n",
    "                                       )"
   ]
  },
  {
   "cell_type": "code",
   "execution_count": null,
   "id": "a3211261-1036-447b-927f-9e0b4b9a7045",
   "metadata": {
    "ExecuteTime": {
     "start_time": "2023-10-12T01:50:20.484995320Z"
    }
   },
   "outputs": [],
   "source": [
    "%%time\n",
    "diskann_result = diskann_idx.batch_search(queries, K, 125, num_threads=NUM_THREADS).identifiers"
   ]
  },
  {
   "cell_type": "code",
   "execution_count": null,
   "id": "1af8c44c-d617-464e-b7d5-0cb2785d5e0e",
   "metadata": {
    "ExecuteTime": {
     "start_time": "2023-10-12T01:50:20.485084890Z"
    }
   },
   "outputs": [],
   "source": [
    "diskann_result"
   ]
  },
  {
   "cell_type": "code",
   "execution_count": null,
   "id": "b93920d3-c505-4bd3-90c7-caccc1a2708c",
   "metadata": {
    "ExecuteTime": {
     "start_time": "2023-10-12T01:50:20.485156415Z"
    }
   },
   "outputs": [],
   "source": [
    "evaluate(diskann_result, gts)"
   ]
  }
 ],
 "metadata": {
  "kernelspec": {
   "display_name": "Python 3 (ipykernel)",
   "language": "python",
   "name": "python3"
  },
  "language_info": {
   "codemirror_mode": {
    "name": "ipython",
    "version": 3
   },
   "file_extension": ".py",
   "mimetype": "text/x-python",
   "name": "python",
   "nbconvert_exporter": "python",
   "pygments_lexer": "ipython3",
   "version": "3.10.9"
  }
 },
 "nbformat": 4,
 "nbformat_minor": 5
}
